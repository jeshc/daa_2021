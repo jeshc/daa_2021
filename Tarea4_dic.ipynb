{
  "nbformat": 4,
  "nbformat_minor": 0,
  "metadata": {
    "colab": {
      "name": "Untitled20.ipynb",
      "provenance": [],
      "collapsed_sections": [],
      "authorship_tag": "ABX9TyPK9IAMM1tSa7f7YfjYwYpw",
      "include_colab_link": true
    },
    "kernelspec": {
      "name": "python3",
      "display_name": "Python 3"
    }
  },
  "cells": [
    {
      "cell_type": "markdown",
      "metadata": {
        "id": "view-in-github",
        "colab_type": "text"
      },
      "source": [
        "<a href=\"https://colab.research.google.com/github/jeshc/daa_2021/blob/master/Tarea4_dic.ipynb\" target=\"_parent\"><img src=\"https://colab.research.google.com/assets/colab-badge.svg\" alt=\"Open In Colab\"/></a>"
      ]
    },
    {
      "cell_type": "markdown",
      "metadata": {
        "id": "m2eQCBmg7mRn"
      },
      "source": [
        "# Planteamiento del problema:\n",
        "\n",
        "El siguiente código se puede considerar la simulación de una pequeña base de datos de alumnos, se encuentra implementado con diccionarios dentro de una lista python.\n",
        "\n",
        "\n",
        "Se puede observar que los alumnos estan ordenados por la llave 'id'.\n",
        "\n",
        "El objetivo de la tarea es realizar busquedas empleando el algoritmo de **Búsqueda binaria recursiva.**\n",
        "\n",
        "El programa debe solicitar el id a buscar. Posteriormente debe buscar(en la lista bd) el alumno en la base de datos y de existir, mostrará la información completa del alumno como en el siguiente,\n",
        "### ejemplo 1:\n",
        "\n",
        "\n",
        "¿Dame el id del alumno a buscar?: 16\n",
        "\n",
        "Resultado:\n",
        "Diana estudia la carrera DER y tiene un promedio de 9.9\n",
        "\n",
        "\n",
        "### ejemplo 2:\n",
        "¿Dame el id del alumno a buscar?: 15\n",
        "\n",
        "Resultado:\n",
        "El alumno no existe en la base de datos.\n",
        "\n"
      ]
    },
    {
      "cell_type": "code",
      "metadata": {
        "colab": {
          "base_uri": "https://localhost:8080/"
        },
        "id": "KLUpPtdt3X2-",
        "outputId": "e1b63660-49df-4fdc-a246-9cee65888a03"
      },
      "source": [
        "alumno1={'id':2, 'nombre':\"Juan\" , 'carrera':\"ICO\", 'promedio':7.67}\n",
        "alumno2={'id':4, 'nombre':\"Rocio\" , 'carrera':\"ICI\", 'promedio':8.67}\n",
        "alumno3={'id':5, 'nombre':\"Diego\" , 'carrera':\"DER\", 'promedio':8.98}\n",
        "alumno4={'id':7, 'nombre':\"May\" , 'carrera':\"ICI\", 'promedio':9.87}\n",
        "alumno5={'id':9, 'nombre':\"Rob\" , 'carrera':\"IME\", 'promedio':10.00}\n",
        "alumno6={'id':10, 'nombre':\"Santi\" , 'carrera':\"ICO\", 'promedio':5.37}\n",
        "alumno7={'id':14, 'nombre':\"Moy\" , 'carrera':\"IME\", 'promedio':6.85}\n",
        "alumno8={'id':16, 'nombre':\"Diana\" , 'carrera':\"DER\", 'promedio':9.99}\n",
        "alumno9={'id':19, 'nombre':\"Zoila\" , 'carrera':\"ICO\", 'promedio':8.22}\n",
        "alumno10={'id':22, 'nombre':\"Armando\" , 'carrera':\"ICO\", 'promedio':7.32}\n",
        "\n",
        "bd = []\n",
        "bd.append(alumno1)\n",
        "bd.append(alumno2)\n",
        "bd.append(alumno3)\n",
        "bd.append(alumno4)\n",
        "bd.append(alumno5)\n",
        "bd.append(alumno6)\n",
        "bd.append(alumno7)\n",
        "bd.append(alumno8)\n",
        "bd.append(alumno9)\n",
        "bd.append(alumno10)\n",
        "\n",
        "print(bd)\n",
        "\n"
      ],
      "execution_count": 5,
      "outputs": [
        {
          "output_type": "stream",
          "text": [
            "[{'id': 2, 'nombre': 'Juan', 'carrera': 'ICO', 'promedio': 7.67}, {'id': 4, 'nombre': 'Rocio', 'carrera': 'ICI', 'promedio': 8.67}, {'id': 5, 'nombre': 'Diego', 'carrera': 'DER', 'promedio': 8.98}, {'id': 7, 'nombre': 'May', 'carrera': 'ICI', 'promedio': 9.87}, {'id': 9, 'nombre': 'Rob', 'carrera': 'IME', 'promedio': 10.0}, {'id': 10, 'nombre': 'Santi', 'carrera': 'ICO', 'promedio': 5.37}, {'id': 14, 'nombre': 'Moy', 'carrera': 'IME', 'promedio': 6.85}, {'id': 16, 'nombre': 'Diana', 'carrera': 'DER', 'promedio': 9.99}, {'id': 19, 'nombre': 'Zoila', 'carrera': 'ICO', 'promedio': 8.22}, {'id': 22, 'nombre': 'Armando', 'carrera': 'ICO', 'promedio': 7.32}]\n"
          ],
          "name": "stdout"
        }
      ]
    },
    {
      "cell_type": "markdown",
      "metadata": {
        "id": "6tcsZDJi7lY3"
      },
      "source": [
        ""
      ]
    }
  ]
}